{
  "nbformat": 4,
  "nbformat_minor": 0,
  "metadata": {
    "colab": {
      "name": "decisiontree.ipynb",
      "provenance": []
    },
    "kernelspec": {
      "name": "python3",
      "display_name": "Python 3"
    },
    "language_info": {
      "name": "python"
    }
  },
  "cells": [
    {
      "cell_type": "code",
      "metadata": {
        "id": "Cs5QD_OgwIyj"
      },
      "source": [
        "# Import library numpy, pandas dan scikit-learn\n",
        "import numpy as np\n",
        "import pandas as pd\n",
        "from sklearn import tree"
      ],
      "execution_count": 1,
      "outputs": []
    },
    {
      "cell_type": "code",
      "metadata": {
        "id": "UmQ92WARxGL8"
      },
      "source": [
        "# Membaca Dataset dari File ke Pandas dataFrame\n",
        "irisDataset = pd.read_csv('dataset_iris.csv', delimiter=';', header=0)"
      ],
      "execution_count": 2,
      "outputs": []
    },
    {
      "cell_type": "code",
      "metadata": {
        "colab": {
          "base_uri": "https://localhost:8080/",
          "height": 204
        },
        "id": "v4D1z4mYxuE7",
        "outputId": "5e9e7742-0af8-41a6-d34f-abfe2f9c8655"
      },
      "source": [
        "irisDataset.head()"
      ],
      "execution_count": 3,
      "outputs": [
        {
          "output_type": "execute_result",
          "data": {
            "text/html": [
              "<div>\n",
              "<style scoped>\n",
              "    .dataframe tbody tr th:only-of-type {\n",
              "        vertical-align: middle;\n",
              "    }\n",
              "\n",
              "    .dataframe tbody tr th {\n",
              "        vertical-align: top;\n",
              "    }\n",
              "\n",
              "    .dataframe thead th {\n",
              "        text-align: right;\n",
              "    }\n",
              "</style>\n",
              "<table border=\"1\" class=\"dataframe\">\n",
              "  <thead>\n",
              "    <tr style=\"text-align: right;\">\n",
              "      <th></th>\n",
              "      <th>Id</th>\n",
              "      <th>SepalLengthCm</th>\n",
              "      <th>SepalWidthCm</th>\n",
              "      <th>PetalLengthCm</th>\n",
              "      <th>PetalWidthCm</th>\n",
              "      <th>Species</th>\n",
              "    </tr>\n",
              "  </thead>\n",
              "  <tbody>\n",
              "    <tr>\n",
              "      <th>0</th>\n",
              "      <td>1</td>\n",
              "      <td>7.00</td>\n",
              "      <td>3.02</td>\n",
              "      <td>4.07</td>\n",
              "      <td>1.04</td>\n",
              "      <td>Iris-versicolor</td>\n",
              "    </tr>\n",
              "    <tr>\n",
              "      <th>1</th>\n",
              "      <td>2</td>\n",
              "      <td>6.04</td>\n",
              "      <td>3.02</td>\n",
              "      <td>4.05</td>\n",
              "      <td>1.05</td>\n",
              "      <td>Iris-versicolor</td>\n",
              "    </tr>\n",
              "    <tr>\n",
              "      <th>2</th>\n",
              "      <td>3</td>\n",
              "      <td>6.09</td>\n",
              "      <td>3.01</td>\n",
              "      <td>4.09</td>\n",
              "      <td>1.05</td>\n",
              "      <td>Iris-versicolor</td>\n",
              "    </tr>\n",
              "    <tr>\n",
              "      <th>3</th>\n",
              "      <td>4</td>\n",
              "      <td>5.05</td>\n",
              "      <td>2.03</td>\n",
              "      <td>4.00</td>\n",
              "      <td>1.03</td>\n",
              "      <td>Iris-versicolor</td>\n",
              "    </tr>\n",
              "    <tr>\n",
              "      <th>4</th>\n",
              "      <td>5</td>\n",
              "      <td>6.05</td>\n",
              "      <td>2.08</td>\n",
              "      <td>4.06</td>\n",
              "      <td>1.05</td>\n",
              "      <td>Iris-versicolor</td>\n",
              "    </tr>\n",
              "  </tbody>\n",
              "</table>\n",
              "</div>"
            ],
            "text/plain": [
              "   Id  SepalLengthCm  ...  PetalWidthCm          Species\n",
              "0   1           7.00  ...          1.04  Iris-versicolor\n",
              "1   2           6.04  ...          1.05  Iris-versicolor\n",
              "2   3           6.09  ...          1.05  Iris-versicolor\n",
              "3   4           5.05  ...          1.03  Iris-versicolor\n",
              "4   5           6.05  ...          1.05  Iris-versicolor\n",
              "\n",
              "[5 rows x 6 columns]"
            ]
          },
          "metadata": {
            "tags": []
          },
          "execution_count": 3
        }
      ]
    },
    {
      "cell_type": "code",
      "metadata": {
        "id": "G9SzolCtx4-T"
      },
      "source": [
        "# Mengubah kelas (kolom \"Species\") dari String ke Unique-Integer\n",
        "irisDataset[\"Species\"] = pd.factorize(irisDataset.Species)[0]"
      ],
      "execution_count": 4,
      "outputs": []
    },
    {
      "cell_type": "code",
      "metadata": {
        "colab": {
          "base_uri": "https://localhost:8080/",
          "height": 204
        },
        "id": "fJfG_AOVyV0U",
        "outputId": "eab8c91c-3fba-4ca2-a0a3-2d5fc1fa0dbe"
      },
      "source": [
        "irisDataset.head()"
      ],
      "execution_count": 5,
      "outputs": [
        {
          "output_type": "execute_result",
          "data": {
            "text/html": [
              "<div>\n",
              "<style scoped>\n",
              "    .dataframe tbody tr th:only-of-type {\n",
              "        vertical-align: middle;\n",
              "    }\n",
              "\n",
              "    .dataframe tbody tr th {\n",
              "        vertical-align: top;\n",
              "    }\n",
              "\n",
              "    .dataframe thead th {\n",
              "        text-align: right;\n",
              "    }\n",
              "</style>\n",
              "<table border=\"1\" class=\"dataframe\">\n",
              "  <thead>\n",
              "    <tr style=\"text-align: right;\">\n",
              "      <th></th>\n",
              "      <th>Id</th>\n",
              "      <th>SepalLengthCm</th>\n",
              "      <th>SepalWidthCm</th>\n",
              "      <th>PetalLengthCm</th>\n",
              "      <th>PetalWidthCm</th>\n",
              "      <th>Species</th>\n",
              "    </tr>\n",
              "  </thead>\n",
              "  <tbody>\n",
              "    <tr>\n",
              "      <th>0</th>\n",
              "      <td>1</td>\n",
              "      <td>7.00</td>\n",
              "      <td>3.02</td>\n",
              "      <td>4.07</td>\n",
              "      <td>1.04</td>\n",
              "      <td>0</td>\n",
              "    </tr>\n",
              "    <tr>\n",
              "      <th>1</th>\n",
              "      <td>2</td>\n",
              "      <td>6.04</td>\n",
              "      <td>3.02</td>\n",
              "      <td>4.05</td>\n",
              "      <td>1.05</td>\n",
              "      <td>0</td>\n",
              "    </tr>\n",
              "    <tr>\n",
              "      <th>2</th>\n",
              "      <td>3</td>\n",
              "      <td>6.09</td>\n",
              "      <td>3.01</td>\n",
              "      <td>4.09</td>\n",
              "      <td>1.05</td>\n",
              "      <td>0</td>\n",
              "    </tr>\n",
              "    <tr>\n",
              "      <th>3</th>\n",
              "      <td>4</td>\n",
              "      <td>5.05</td>\n",
              "      <td>2.03</td>\n",
              "      <td>4.00</td>\n",
              "      <td>1.03</td>\n",
              "      <td>0</td>\n",
              "    </tr>\n",
              "    <tr>\n",
              "      <th>4</th>\n",
              "      <td>5</td>\n",
              "      <td>6.05</td>\n",
              "      <td>2.08</td>\n",
              "      <td>4.06</td>\n",
              "      <td>1.05</td>\n",
              "      <td>0</td>\n",
              "    </tr>\n",
              "  </tbody>\n",
              "</table>\n",
              "</div>"
            ],
            "text/plain": [
              "   Id  SepalLengthCm  SepalWidthCm  PetalLengthCm  PetalWidthCm  Species\n",
              "0   1           7.00          3.02           4.07          1.04        0\n",
              "1   2           6.04          3.02           4.05          1.05        0\n",
              "2   3           6.09          3.01           4.09          1.05        0\n",
              "3   4           5.05          2.03           4.00          1.03        0\n",
              "4   5           6.05          2.08           4.06          1.05        0"
            ]
          },
          "metadata": {
            "tags": []
          },
          "execution_count": 5
        }
      ]
    },
    {
      "cell_type": "code",
      "metadata": {
        "colab": {
          "base_uri": "https://localhost:8080/"
        },
        "id": "9Y21q4URydEM",
        "outputId": "e2e308ab-7058-442e-91ed-1752a6962c48"
      },
      "source": [
        "print(irisDataset)"
      ],
      "execution_count": 6,
      "outputs": [
        {
          "output_type": "stream",
          "text": [
            "     Id  SepalLengthCm  SepalWidthCm  PetalLengthCm  PetalWidthCm  Species\n",
            "0     1           7.00          3.02           4.07          1.04        0\n",
            "1     2           6.04          3.02           4.05          1.05        0\n",
            "2     3           6.09          3.01           4.09          1.05        0\n",
            "3     4           5.05          2.03           4.00          1.03        0\n",
            "4     5           6.05          2.08           4.06          1.05        0\n",
            "..  ...            ...           ...            ...           ...      ...\n",
            "95   96           6.07          3.00           5.02          2.03        1\n",
            "96   97           6.03          2.05           5.00          1.09        1\n",
            "97   98           6.05          3.00           5.02          2.00        1\n",
            "98   99           6.02          3.04           5.04          2.03        1\n",
            "99  100           5.09          3.00           5.01          1.08        1\n",
            "\n",
            "[100 rows x 6 columns]\n"
          ],
          "name": "stdout"
        }
      ]
    },
    {
      "cell_type": "code",
      "metadata": {
        "id": "P9qkbXGXyvZu"
      },
      "source": [
        "# Menghapus kolom \"Id\"\n",
        "irisDataset = irisDataset.drop(labels=\"Id\", axis=1)"
      ],
      "execution_count": 7,
      "outputs": []
    },
    {
      "cell_type": "code",
      "metadata": {
        "colab": {
          "base_uri": "https://localhost:8080/"
        },
        "id": "kh7tMItYy5fE",
        "outputId": "dcea2645-957b-4ac2-fcdc-b22f08af5dbf"
      },
      "source": [
        "print(irisDataset)"
      ],
      "execution_count": 8,
      "outputs": [
        {
          "output_type": "stream",
          "text": [
            "    SepalLengthCm  SepalWidthCm  PetalLengthCm  PetalWidthCm  Species\n",
            "0            7.00          3.02           4.07          1.04        0\n",
            "1            6.04          3.02           4.05          1.05        0\n",
            "2            6.09          3.01           4.09          1.05        0\n",
            "3            5.05          2.03           4.00          1.03        0\n",
            "4            6.05          2.08           4.06          1.05        0\n",
            "..            ...           ...            ...           ...      ...\n",
            "95           6.07          3.00           5.02          2.03        1\n",
            "96           6.03          2.05           5.00          1.09        1\n",
            "97           6.05          3.00           5.02          2.00        1\n",
            "98           6.02          3.04           5.04          2.03        1\n",
            "99           5.09          3.00           5.01          1.08        1\n",
            "\n",
            "[100 rows x 5 columns]\n"
          ],
          "name": "stdout"
        }
      ]
    },
    {
      "cell_type": "code",
      "metadata": {
        "id": "wPUg2Rv1zBVO"
      },
      "source": [
        "# Mengubah dataFrame ke array Numpy\n",
        "irisDataset = irisDataset.to_numpy()"
      ],
      "execution_count": 9,
      "outputs": []
    },
    {
      "cell_type": "code",
      "metadata": {
        "id": "vEdheS6fzO-V"
      },
      "source": [
        "print(irisDataset)"
      ],
      "execution_count": null,
      "outputs": []
    },
    {
      "cell_type": "code",
      "metadata": {
        "id": "41zXjUQszYGG"
      },
      "source": [
        "# Membagi Dataset => 80 baris data untuk training dan 20 baris data untuk testing\n",
        "dataTraining = np.concatenate((irisDataset[0:40, :], irisDataset[50:90, :]),\n",
        "                              axis=0)\n",
        "dataTesting = np.concatenate((irisDataset[40:50, :], irisDataset[90:100, :]),\n",
        "                             axis=0)"
      ],
      "execution_count": 11,
      "outputs": []
    },
    {
      "cell_type": "code",
      "metadata": {
        "id": "AxbczRok0cX2"
      },
      "source": [
        "print(dataTesting)\n",
        "len(dataTesting)"
      ],
      "execution_count": null,
      "outputs": []
    },
    {
      "cell_type": "code",
      "metadata": {
        "colab": {
          "base_uri": "https://localhost:8080/"
        },
        "id": "kHkVvA6s06Bh",
        "outputId": "69e56baa-ad37-44fc-8cc8-86cb40a9166d"
      },
      "source": [
        "# Memecah Dataset ke Input dan Label\n",
        "inputTraining = dataTraining[:, 0:4]\n",
        "inputTesting = dataTesting[:, 0:4]\n",
        "labelTraining = dataTraining[:, 4]\n",
        "labelTesting = dataTesting[:, 4]\n",
        "print(labelTraining)\n",
        "len(labelTraining)"
      ],
      "execution_count": 14,
      "outputs": [
        {
          "output_type": "stream",
          "text": [
            "[0. 0. 0. 0. 0. 0. 0. 0. 0. 0. 0. 0. 0. 0. 0. 0. 0. 0. 0. 0. 0. 0. 0. 0.\n",
            " 0. 0. 0. 0. 0. 0. 0. 0. 0. 0. 0. 0. 0. 0. 0. 0. 1. 1. 1. 1. 1. 1. 1. 1.\n",
            " 1. 1. 1. 1. 1. 1. 1. 1. 1. 1. 1. 1. 1. 1. 1. 1. 1. 1. 1. 1. 1. 1. 1. 1.\n",
            " 1. 1. 1. 1. 1. 1. 1. 1.]\n"
          ],
          "name": "stdout"
        },
        {
          "output_type": "execute_result",
          "data": {
            "text/plain": [
              "80"
            ]
          },
          "metadata": {
            "tags": []
          },
          "execution_count": 14
        }
      ]
    },
    {
      "cell_type": "code",
      "metadata": {
        "id": "Rv_2Aeb81hgb"
      },
      "source": [
        "# Mendefinisikan Decision Tree Classifier\n",
        "model = tree.DecisionTreeClassifier()"
      ],
      "execution_count": 15,
      "outputs": []
    },
    {
      "cell_type": "code",
      "metadata": {
        "id": "DHpF2N731sch"
      },
      "source": [
        "# Mentraining Model\n",
        "model = model.fit(inputTraining, labelTraining)"
      ],
      "execution_count": 16,
      "outputs": []
    },
    {
      "cell_type": "code",
      "metadata": {
        "colab": {
          "base_uri": "https://localhost:8080/"
        },
        "id": "x6pUhpRc1_76",
        "outputId": "c9f42aa2-4eb7-4322-9b60-b8355313376b"
      },
      "source": [
        "# Memprediksi Input Data Testing\n",
        "hasilPrediksi = model.predict(inputTesting)\n",
        "print(\"Label Sebenarnya : \", labelTesting)\n",
        "print(\"Hasil Prediksi : \", hasilPrediksi)"
      ],
      "execution_count": 17,
      "outputs": [
        {
          "output_type": "stream",
          "text": [
            "Label Sebenarnya :  [0. 0. 0. 0. 0. 0. 0. 0. 0. 0. 1. 1. 1. 1. 1. 1. 1. 1. 1. 1.]\n",
            "Hasil Prediksi :  [0. 0. 0. 0. 0. 0. 0. 0. 0. 0. 1. 1. 1. 1. 1. 1. 1. 1. 1. 1.]\n"
          ],
          "name": "stdout"
        }
      ]
    },
    {
      "cell_type": "code",
      "metadata": {
        "colab": {
          "base_uri": "https://localhost:8080/"
        },
        "id": "NZMfb0-g2WW7",
        "outputId": "9a72f21f-dd09-434f-fc21-764070330c25"
      },
      "source": [
        "# Menghitung Akurasi\n",
        "prediksiBenar = (hasilPrediksi == labelTesting).sum()\n",
        "prediksiSalah = (hasilPrediksi != labelTesting).sum()\n",
        "print(\"Prediksi Benar :\", prediksiBenar, \"data\")\n",
        "print(\"Prediksi Salah :\", prediksiSalah, \"data\")\n",
        "print(\"Akurasi :\", prediksiBenar/(prediksiBenar+prediksiSalah) * 100, \"%\")"
      ],
      "execution_count": 18,
      "outputs": [
        {
          "output_type": "stream",
          "text": [
            "Prediksi Benar : 20 data\n",
            "Prediksi Salah : 0 data\n",
            "Akurasi : 100.0 %\n"
          ],
          "name": "stdout"
        }
      ]
    }
  ]
}